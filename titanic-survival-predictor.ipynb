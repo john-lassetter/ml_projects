{
 "cells": [
  {
   "cell_type": "code",
   "execution_count": 1,
   "metadata": {
    "_cell_guid": "b1076dfc-b9ad-4769-8c92-a6c4dae69d19",
    "_uuid": "8f2839f25d086af736a60e9eeb907d3b93b6e0e5",
    "execution": {
     "iopub.execute_input": "2021-07-26T23:24:05.840117Z",
     "iopub.status.busy": "2021-07-26T23:24:05.839400Z",
     "iopub.status.idle": "2021-07-26T23:24:11.923422Z",
     "shell.execute_reply": "2021-07-26T23:24:11.922573Z",
     "shell.execute_reply.started": "2021-07-26T17:39:31.909615Z"
    },
    "papermill": {
     "duration": 6.111689,
     "end_time": "2021-07-26T23:24:11.923633",
     "exception": false,
     "start_time": "2021-07-26T23:24:05.811944",
     "status": "completed"
    },
    "tags": []
   },
   "outputs": [],
   "source": [
    "import numpy as np\n",
    "import pandas as pd\n",
    "import matplotlib.pyplot as plt\n",
    "%matplotlib inline\n",
    "import tensorflow as tf\n",
    "from tensorflow import keras\n",
    "import os"
   ]
  },
  {
   "cell_type": "code",
   "execution_count": 2,
   "metadata": {
    "execution": {
     "iopub.execute_input": "2021-07-26T23:24:11.970346Z",
     "iopub.status.busy": "2021-07-26T23:24:11.969281Z",
     "iopub.status.idle": "2021-07-26T23:24:11.971929Z",
     "shell.execute_reply": "2021-07-26T23:24:11.972468Z",
     "shell.execute_reply.started": "2021-07-26T17:39:32.101658Z"
    },
    "papermill": {
     "duration": 0.030024,
     "end_time": "2021-07-26T23:24:11.972644",
     "exception": false,
     "start_time": "2021-07-26T23:24:11.942620",
     "status": "completed"
    },
    "tags": []
   },
   "outputs": [],
   "source": [
    "def plot_loss(history):\n",
    "    plt.figure(figsize=(10,10))\n",
    "    epochs = np.arange(len(history.history['loss']))+1\n",
    "    plt.subplot(211)\n",
    "    plt.plot(epochs-0.5, history.history['loss'], label='Loss')\n",
    "    plt.plot(epochs, history.history['val_loss'], label='Val. Loss')\n",
    "    plt.legend()\n",
    "    plt.subplot(212)\n",
    "    plt.plot(epochs-0.5, history.history['accuracy'], label='Accuracy')\n",
    "    plt.plot(epochs, history.history['val_accuracy'], label='Val. Accuracy')\n",
    "    plt.legend()"
   ]
  },
  {
   "cell_type": "code",
   "execution_count": 3,
   "metadata": {
    "execution": {
     "iopub.execute_input": "2021-07-26T23:24:12.015829Z",
     "iopub.status.busy": "2021-07-26T23:24:12.014793Z",
     "iopub.status.idle": "2021-07-26T23:24:12.084393Z",
     "shell.execute_reply": "2021-07-26T23:24:12.084905Z",
     "shell.execute_reply.started": "2021-07-26T17:39:32.28007Z"
    },
    "papermill": {
     "duration": 0.093031,
     "end_time": "2021-07-26T23:24:12.085103",
     "exception": false,
     "start_time": "2021-07-26T23:24:11.992072",
     "status": "completed"
    },
    "tags": []
   },
   "outputs": [
    {
     "data": {
      "text/html": [
       "<div>\n",
       "<style scoped>\n",
       "    .dataframe tbody tr th:only-of-type {\n",
       "        vertical-align: middle;\n",
       "    }\n",
       "\n",
       "    .dataframe tbody tr th {\n",
       "        vertical-align: top;\n",
       "    }\n",
       "\n",
       "    .dataframe thead th {\n",
       "        text-align: right;\n",
       "    }\n",
       "</style>\n",
       "<table border=\"1\" class=\"dataframe\">\n",
       "  <thead>\n",
       "    <tr style=\"text-align: right;\">\n",
       "      <th></th>\n",
       "      <th>PassengerId</th>\n",
       "      <th>Survived</th>\n",
       "      <th>Pclass</th>\n",
       "      <th>Age</th>\n",
       "      <th>SibSp</th>\n",
       "      <th>Parch</th>\n",
       "      <th>Fare</th>\n",
       "    </tr>\n",
       "  </thead>\n",
       "  <tbody>\n",
       "    <tr>\n",
       "      <th>count</th>\n",
       "      <td>891.000000</td>\n",
       "      <td>891.000000</td>\n",
       "      <td>891.000000</td>\n",
       "      <td>714.000000</td>\n",
       "      <td>891.000000</td>\n",
       "      <td>891.000000</td>\n",
       "      <td>891.000000</td>\n",
       "    </tr>\n",
       "    <tr>\n",
       "      <th>mean</th>\n",
       "      <td>446.000000</td>\n",
       "      <td>0.383838</td>\n",
       "      <td>2.308642</td>\n",
       "      <td>29.699118</td>\n",
       "      <td>0.523008</td>\n",
       "      <td>0.381594</td>\n",
       "      <td>32.204208</td>\n",
       "    </tr>\n",
       "    <tr>\n",
       "      <th>std</th>\n",
       "      <td>257.353842</td>\n",
       "      <td>0.486592</td>\n",
       "      <td>0.836071</td>\n",
       "      <td>14.526497</td>\n",
       "      <td>1.102743</td>\n",
       "      <td>0.806057</td>\n",
       "      <td>49.693429</td>\n",
       "    </tr>\n",
       "    <tr>\n",
       "      <th>min</th>\n",
       "      <td>1.000000</td>\n",
       "      <td>0.000000</td>\n",
       "      <td>1.000000</td>\n",
       "      <td>0.420000</td>\n",
       "      <td>0.000000</td>\n",
       "      <td>0.000000</td>\n",
       "      <td>0.000000</td>\n",
       "    </tr>\n",
       "    <tr>\n",
       "      <th>25%</th>\n",
       "      <td>223.500000</td>\n",
       "      <td>0.000000</td>\n",
       "      <td>2.000000</td>\n",
       "      <td>20.125000</td>\n",
       "      <td>0.000000</td>\n",
       "      <td>0.000000</td>\n",
       "      <td>7.910400</td>\n",
       "    </tr>\n",
       "    <tr>\n",
       "      <th>50%</th>\n",
       "      <td>446.000000</td>\n",
       "      <td>0.000000</td>\n",
       "      <td>3.000000</td>\n",
       "      <td>28.000000</td>\n",
       "      <td>0.000000</td>\n",
       "      <td>0.000000</td>\n",
       "      <td>14.454200</td>\n",
       "    </tr>\n",
       "    <tr>\n",
       "      <th>75%</th>\n",
       "      <td>668.500000</td>\n",
       "      <td>1.000000</td>\n",
       "      <td>3.000000</td>\n",
       "      <td>38.000000</td>\n",
       "      <td>1.000000</td>\n",
       "      <td>0.000000</td>\n",
       "      <td>31.000000</td>\n",
       "    </tr>\n",
       "    <tr>\n",
       "      <th>max</th>\n",
       "      <td>891.000000</td>\n",
       "      <td>1.000000</td>\n",
       "      <td>3.000000</td>\n",
       "      <td>80.000000</td>\n",
       "      <td>8.000000</td>\n",
       "      <td>6.000000</td>\n",
       "      <td>512.329200</td>\n",
       "    </tr>\n",
       "  </tbody>\n",
       "</table>\n",
       "</div>"
      ],
      "text/plain": [
       "       PassengerId    Survived      Pclass         Age       SibSp  \\\n",
       "count   891.000000  891.000000  891.000000  714.000000  891.000000   \n",
       "mean    446.000000    0.383838    2.308642   29.699118    0.523008   \n",
       "std     257.353842    0.486592    0.836071   14.526497    1.102743   \n",
       "min       1.000000    0.000000    1.000000    0.420000    0.000000   \n",
       "25%     223.500000    0.000000    2.000000   20.125000    0.000000   \n",
       "50%     446.000000    0.000000    3.000000   28.000000    0.000000   \n",
       "75%     668.500000    1.000000    3.000000   38.000000    1.000000   \n",
       "max     891.000000    1.000000    3.000000   80.000000    8.000000   \n",
       "\n",
       "            Parch        Fare  \n",
       "count  891.000000  891.000000  \n",
       "mean     0.381594   32.204208  \n",
       "std      0.806057   49.693429  \n",
       "min      0.000000    0.000000  \n",
       "25%      0.000000    7.910400  \n",
       "50%      0.000000   14.454200  \n",
       "75%      0.000000   31.000000  \n",
       "max      6.000000  512.329200  "
      ]
     },
     "execution_count": 3,
     "metadata": {},
     "output_type": "execute_result"
    }
   ],
   "source": [
    "data_filepath = '../input/titanic/train.csv'\n",
    "raw_data = pd.read_csv(data_filepath)\n",
    "raw_data.describe()"
   ]
  },
  {
   "cell_type": "code",
   "execution_count": 4,
   "metadata": {
    "execution": {
     "iopub.execute_input": "2021-07-26T23:24:12.128210Z",
     "iopub.status.busy": "2021-07-26T23:24:12.127225Z",
     "iopub.status.idle": "2021-07-26T23:24:12.149812Z",
     "shell.execute_reply": "2021-07-26T23:24:12.150583Z",
     "shell.execute_reply.started": "2021-07-26T17:39:32.448669Z"
    },
    "papermill": {
     "duration": 0.046038,
     "end_time": "2021-07-26T23:24:12.150837",
     "exception": false,
     "start_time": "2021-07-26T23:24:12.104799",
     "status": "completed"
    },
    "tags": []
   },
   "outputs": [
    {
     "name": "stdout",
     "output_type": "stream",
     "text": [
      "<class 'pandas.core.frame.DataFrame'>\n",
      "RangeIndex: 891 entries, 0 to 890\n",
      "Data columns (total 12 columns):\n",
      " #   Column       Non-Null Count  Dtype  \n",
      "---  ------       --------------  -----  \n",
      " 0   PassengerId  891 non-null    int64  \n",
      " 1   Survived     891 non-null    int64  \n",
      " 2   Pclass       891 non-null    int64  \n",
      " 3   Name         891 non-null    object \n",
      " 4   Sex          891 non-null    object \n",
      " 5   Age          714 non-null    float64\n",
      " 6   SibSp        891 non-null    int64  \n",
      " 7   Parch        891 non-null    int64  \n",
      " 8   Ticket       891 non-null    object \n",
      " 9   Fare         891 non-null    float64\n",
      " 10  Cabin        204 non-null    object \n",
      " 11  Embarked     889 non-null    object \n",
      "dtypes: float64(2), int64(5), object(5)\n",
      "memory usage: 83.7+ KB\n",
      "None\n",
      "1: 146\n",
      "2: 183\n",
      "3: 301\n",
      "4: 10\n",
      "5: 3\n",
      "6: 6\n",
      "7: 9\n",
      "8: 2\n",
      "9: 1\n",
      "A: 29\n",
      "C: 47\n",
      "F: 7\n",
      "L: 4\n",
      "P: 65\n",
      "S: 65\n",
      "W: 13\n"
     ]
    }
   ],
   "source": [
    "#Find useful coding for ticket\n",
    "print(raw_data.info())\n",
    "\n",
    "#Find distribution of first character of each ticket\n",
    "first_chars={}\n",
    "for obj in raw_data['Ticket']:\n",
    "#     try:\n",
    "#         if type(int(str(obj[0])))==int:\n",
    "#             first_chars['numbers'] += 1\n",
    "#     except:\n",
    "    try:\n",
    "        first_chars[str(obj)[0]] += 1\n",
    "    except:\n",
    "        first_chars[str(obj)[0]] = 1\n",
    "for key in sorted(first_chars):\n",
    "    print('{}: {}'.format(key, first_chars[key]))"
   ]
  },
  {
   "cell_type": "code",
   "execution_count": 5,
   "metadata": {
    "execution": {
     "iopub.execute_input": "2021-07-26T23:24:12.213306Z",
     "iopub.status.busy": "2021-07-26T23:24:12.212567Z",
     "iopub.status.idle": "2021-07-26T23:24:12.393846Z",
     "shell.execute_reply": "2021-07-26T23:24:12.393284Z",
     "shell.execute_reply.started": "2021-07-26T17:39:32.777103Z"
    },
    "papermill": {
     "duration": 0.223552,
     "end_time": "2021-07-26T23:24:12.394002",
     "exception": false,
     "start_time": "2021-07-26T23:24:12.170450",
     "status": "completed"
    },
    "tags": []
   },
   "outputs": [
    {
     "data": {
      "text/plain": [
       "(array([261.,   0.,   0., 146.,   0.,   0., 183.,   0.,   0., 301.]),\n",
       " array([0. , 0.3, 0.6, 0.9, 1.2, 1.5, 1.8, 2.1, 2.4, 2.7, 3. ]),\n",
       " <BarContainer object of 10 artists>)"
      ]
     },
     "execution_count": 5,
     "metadata": {},
     "output_type": "execute_result"
    },
    {
     "data": {
      "image/png": "[encoded data removed]",
      "text/plain": [
       "<Figure size 432x288 with 1 Axes>"
      ]
     },
     "metadata": {
      "needs_background": "light"
     },
     "output_type": "display_data"
    }
   ],
   "source": [
    "# Code tickets to 1, 2, 3, or 0 if starting with anything else\n",
    "raw_data['coded_ticket'] = raw_data['Ticket'].map(lambda x: 0 if not str(x)[0].isdigit() else 0 if int(str(x)[0])>3 else int(str(x[0])))\n",
    "plt.hist(raw_data['coded_ticket'])"
   ]
  },
  {
   "cell_type": "code",
   "execution_count": 6,
   "metadata": {
    "execution": {
     "iopub.execute_input": "2021-07-26T23:24:12.440201Z",
     "iopub.status.busy": "2021-07-26T23:24:12.439338Z",
     "iopub.status.idle": "2021-07-26T23:24:13.616695Z",
     "shell.execute_reply": "2021-07-26T23:24:13.616146Z",
     "shell.execute_reply.started": "2021-07-26T17:39:32.941462Z"
    },
    "papermill": {
     "duration": 1.202217,
     "end_time": "2021-07-26T23:24:13.616851",
     "exception": false,
     "start_time": "2021-07-26T23:24:12.414634",
     "status": "completed"
    },
    "tags": []
   },
   "outputs": [
    {
     "data": {
      "image/png": "[encoded data removed]",
      "text/plain": [
       "<Figure size 1080x720 with 9 Axes>"
      ]
     },
     "metadata": {
      "needs_background": "light"
     },
     "output_type": "display_data"
    }
   ],
   "source": [
    "figsize=(15,10)\n",
    "raw_data.hist(column=raw_data.columns, figsize=figsize);"
   ]
  },
  {
   "cell_type": "code",
   "execution_count": 7,
   "metadata": {
    "execution": {
     "iopub.execute_input": "2021-07-26T23:24:13.671952Z",
     "iopub.status.busy": "2021-07-26T23:24:13.671209Z",
     "iopub.status.idle": "2021-07-26T23:24:13.674914Z",
     "shell.execute_reply": "2021-07-26T23:24:13.674355Z",
     "shell.execute_reply.started": "2021-07-26T17:39:34.104903Z"
    },
    "papermill": {
     "duration": 0.035029,
     "end_time": "2021-07-26T23:24:13.675064",
     "exception": false,
     "start_time": "2021-07-26T23:24:13.640035",
     "status": "completed"
    },
    "tags": []
   },
   "outputs": [
    {
     "data": {
      "text/plain": [
       "Survived        1.000000\n",
       "Fare            0.257307\n",
       "Parch           0.081629\n",
       "PassengerId    -0.005007\n",
       "SibSp          -0.035322\n",
       "Age            -0.077221\n",
       "coded_ticket   -0.122576\n",
       "Pclass         -0.338481\n",
       "Name: Survived, dtype: float64"
      ]
     },
     "execution_count": 7,
     "metadata": {},
     "output_type": "execute_result"
    }
   ],
   "source": [
    "corr_matrix = raw_data.corr()\n",
    "corr_matrix['Survived'].sort_values(ascending=False)"
   ]
  },
  {
   "cell_type": "code",
   "execution_count": 8,
   "metadata": {
    "execution": {
     "iopub.execute_input": "2021-07-26T23:24:13.733744Z",
     "iopub.status.busy": "2021-07-26T23:24:13.729187Z",
     "iopub.status.idle": "2021-07-26T23:24:13.737210Z",
     "shell.execute_reply": "2021-07-26T23:24:13.736701Z",
     "shell.execute_reply.started": "2021-07-26T17:39:34.118411Z"
    },
    "papermill": {
     "duration": 0.040085,
     "end_time": "2021-07-26T23:24:13.737364",
     "exception": false,
     "start_time": "2021-07-26T23:24:13.697279",
     "status": "completed"
    },
    "tags": []
   },
   "outputs": [],
   "source": [
    "def prep_data(filepath, val_split=0.2, random_seed=17, mode='train'):\n",
    "    unused_columns = ['PassengerId', 'Name', 'Ticket', 'Cabin']      # Ticket data included in coded_ticket instead\n",
    "    num_cats = ['Age', 'SibSp', 'Parch', 'Fare']\n",
    "    non_num_cats = ['Pclass', 'Sex', 'Embarked', 'coded_ticket']\n",
    "    data = pd.read_csv(filepath)\n",
    "    \n",
    "    # Code tickets to 1, 2, 3, or 0 if starting with anything else\n",
    "    data['coded_ticket'] = data['Ticket'].map(lambda x: 0 if not str(x)[0].isdigit() else 0 if int(str(x)[0])>3 else int(str(x[0])))\n",
    "    data = data.drop(unused_columns, axis=1)\n",
    "    \n",
    "    #Remove NaN\n",
    "    if mode=='train':\n",
    "        data = data.dropna(axis=0)\n",
    "    #Shuffle\n",
    "        from sklearn.model_selection import StratifiedShuffleSplit\n",
    "        split = StratifiedShuffleSplit(n_splits=1, test_size = val_split, random_state=17)\n",
    "        for train_index, valid_index in split.split(data, data['Survived']):\n",
    "            train = data.reindex(train_index)\n",
    "            valid = data.reindex(valid_index)\n",
    "            train, valid = train.dropna(axis=0), valid.dropna(axis=0) #remove nans added from reindexing\n",
    "            \n",
    "        y_train, y_valid = train['Survived'], valid['Survived']\n",
    "        x_train, x_valid = train.drop('Survived', axis=1), valid.drop('Survived', axis=1)  \n",
    "    \n",
    "    #process categorical inputs\n",
    "    from sklearn.pipeline import Pipeline\n",
    "    from sklearn.preprocessing import StandardScaler\n",
    "    from sklearn.compose import ColumnTransformer\n",
    "    from sklearn.impute import SimpleImputer\n",
    "    from sklearn.preprocessing import OneHotEncoder\n",
    "    \n",
    "    num_pipeline = Pipeline([\n",
    "        ('imputer', SimpleImputer(strategy='median')),\n",
    "        ('std_scaler', StandardScaler())\n",
    "    ])\n",
    "\n",
    "    full_pipeline = ColumnTransformer([\n",
    "        ('num', num_pipeline, num_cats),\n",
    "        ('cat', OneHotEncoder(), non_num_cats)\n",
    "    ])\n",
    "    \n",
    "    if mode=='train':\n",
    "        x_train = full_pipeline.fit_transform(x_train)\n",
    "        x_valid = full_pipeline.fit_transform(x_valid)\n",
    "\n",
    "        return (x_train, y_train), (x_valid, y_valid)\n",
    "    \n",
    "    else:\n",
    "        return full_pipeline.fit_transform(data)"
   ]
  },
  {
   "cell_type": "code",
   "execution_count": 9,
   "metadata": {
    "execution": {
     "iopub.execute_input": "2021-07-26T23:24:13.787323Z",
     "iopub.status.busy": "2021-07-26T23:24:13.786711Z",
     "iopub.status.idle": "2021-07-26T23:24:14.872658Z",
     "shell.execute_reply": "2021-07-26T23:24:14.871918Z",
     "shell.execute_reply.started": "2021-07-26T17:39:34.135151Z"
    },
    "papermill": {
     "duration": 1.113397,
     "end_time": "2021-07-26T23:24:14.872828",
     "exception": false,
     "start_time": "2021-07-26T23:24:13.759431",
     "status": "completed"
    },
    "tags": []
   },
   "outputs": [],
   "source": [
    "(x_train, y_train), (x_valid, y_valid) = prep_data('../input/titanic/train.csv')"
   ]
  },
  {
   "cell_type": "markdown",
   "metadata": {
    "papermill": {
     "duration": 0.021675,
     "end_time": "2021-07-26T23:24:14.916522",
     "exception": false,
     "start_time": "2021-07-26T23:24:14.894847",
     "status": "completed"
    },
    "tags": []
   },
   "source": [
    "# Random Forest"
   ]
  },
  {
   "cell_type": "code",
   "execution_count": 10,
   "metadata": {
    "execution": {
     "iopub.execute_input": "2021-07-26T23:24:14.966315Z",
     "iopub.status.busy": "2021-07-26T23:24:14.965632Z",
     "iopub.status.idle": "2021-07-26T23:24:17.549971Z",
     "shell.execute_reply": "2021-07-26T23:24:17.550460Z",
     "shell.execute_reply.started": "2021-07-26T17:39:34.194248Z"
    },
    "papermill": {
     "duration": 2.612174,
     "end_time": "2021-07-26T23:24:17.550640",
     "exception": false,
     "start_time": "2021-07-26T23:24:14.938466",
     "status": "completed"
    },
    "tags": []
   },
   "outputs": [
    {
     "name": "stdout",
     "output_type": "stream",
     "text": [
      "[0.42023772 0.46776456 0.29095263 0.3613308  0.47264789 0.3830465\n",
      " 0.41523055 0.44648032 0.4039441  0.46478442]\n"
     ]
    }
   ],
   "source": [
    "from sklearn.ensemble import RandomForestRegressor as rfg\n",
    "forest_reg = rfg(n_estimators=100, max_depth=None, random_state=17)\n",
    "forest_reg.fit(x_train, y_train)\n",
    "\n",
    "from sklearn.model_selection import cross_val_score\n",
    "scores = cross_val_score(forest_reg,x_train,y_train,scoring='neg_mean_squared_error',cv=10)\n",
    "print(np.sqrt(-scores))"
   ]
  },
  {
   "cell_type": "code",
   "execution_count": 11,
   "metadata": {
    "execution": {
     "iopub.execute_input": "2021-07-26T23:24:17.600958Z",
     "iopub.status.busy": "2021-07-26T23:24:17.600260Z",
     "iopub.status.idle": "2021-07-26T23:24:17.602965Z",
     "shell.execute_reply": "2021-07-26T23:24:17.603410Z",
     "shell.execute_reply.started": "2021-07-26T17:39:36.724342Z"
    },
    "papermill": {
     "duration": 0.030448,
     "end_time": "2021-07-26T23:24:17.603584",
     "exception": false,
     "start_time": "2021-07-26T23:24:17.573136",
     "status": "completed"
    },
    "tags": []
   },
   "outputs": [],
   "source": [
    "def my_rfg_predict(rfg, x, threshold=0.5):\n",
    "    y_pred = np.tanh(rfg.predict(x))\n",
    "    if y_pred > threshold:\n",
    "        return 1\n",
    "    return 0    "
   ]
  },
  {
   "cell_type": "code",
   "execution_count": 12,
   "metadata": {
    "execution": {
     "iopub.execute_input": "2021-07-26T23:24:17.651569Z",
     "iopub.status.busy": "2021-07-26T23:24:17.650982Z",
     "iopub.status.idle": "2021-07-26T23:24:17.664321Z",
     "shell.execute_reply": "2021-07-26T23:24:17.664860Z",
     "shell.execute_reply.started": "2021-07-26T17:39:36.730028Z"
    },
    "papermill": {
     "duration": 0.038714,
     "end_time": "2021-07-26T23:24:17.665051",
     "exception": false,
     "start_time": "2021-07-26T23:24:17.626337",
     "status": "completed"
    },
    "tags": []
   },
   "outputs": [
    {
     "data": {
      "text/plain": [
       "array([0.22])"
      ]
     },
     "execution_count": 12,
     "metadata": {},
     "output_type": "execute_result"
    }
   ],
   "source": [
    "forest_reg.predict(np.reshape(x_train[0],(1,-1)))"
   ]
  },
  {
   "cell_type": "code",
   "execution_count": 13,
   "metadata": {
    "execution": {
     "iopub.execute_input": "2021-07-26T23:24:17.714288Z",
     "iopub.status.busy": "2021-07-26T23:24:17.713562Z",
     "iopub.status.idle": "2021-07-26T23:24:21.016417Z",
     "shell.execute_reply": "2021-07-26T23:24:21.015771Z",
     "shell.execute_reply.started": "2021-07-26T17:39:36.75763Z"
    },
    "papermill": {
     "duration": 3.328395,
     "end_time": "2021-07-26T23:24:21.016561",
     "exception": false,
     "start_time": "2021-07-26T23:24:17.688166",
     "status": "completed"
    },
    "tags": []
   },
   "outputs": [
    {
     "name": "stdout",
     "output_type": "stream",
     "text": [
      "RFG Acc: 98.89867841409692\n"
     ]
    }
   ],
   "source": [
    "N=len(x_train)\n",
    "thresholds = np.arange(0.1, 1, 0.1)\n",
    "preds = []\n",
    "for i in range(N):\n",
    "    preds.append(my_rfg_predict(forest_reg, np.reshape(x_train[i], (1,-1)), threshold=0.5))\n",
    "\n",
    "wrong = preds-y_train\n",
    "num_wrong = 0\n",
    "for i in wrong:\n",
    "    if i != 0:\n",
    "        num_wrong += 1\n",
    "rfg_acc = (100*(1-num_wrong/N))\n",
    "\n",
    "print('RFG Acc: {}'.format(rfg_acc))"
   ]
  },
  {
   "cell_type": "code",
   "execution_count": 14,
   "metadata": {
    "execution": {
     "iopub.execute_input": "2021-07-26T23:24:21.123024Z",
     "iopub.status.busy": "2021-07-26T23:24:21.119931Z",
     "iopub.status.idle": "2021-07-26T23:24:21.869294Z",
     "shell.execute_reply": "2021-07-26T23:24:21.869897Z",
     "shell.execute_reply.started": "2021-07-26T17:39:40.107249Z"
    },
    "papermill": {
     "duration": 0.82933,
     "end_time": "2021-07-26T23:24:21.870088",
     "exception": false,
     "start_time": "2021-07-26T23:24:21.040758",
     "status": "completed"
    },
    "tags": []
   },
   "outputs": [
    {
     "name": "stdout",
     "output_type": "stream",
     "text": [
      "RFG Valid Acc: 86.36363636363636\n"
     ]
    }
   ],
   "source": [
    "N=len(x_valid)\n",
    "thresholds = np.arange(0.1, 1, 0.1)\n",
    "preds = []\n",
    "for i in range(N):\n",
    "    preds.append(my_rfg_predict(forest_reg, np.reshape(x_valid[i], (1,-1)), threshold=0.5))\n",
    "\n",
    "wrong = preds-y_valid\n",
    "num_wrong = 0\n",
    "for i in wrong:\n",
    "    if i != 0:\n",
    "        num_wrong += 1\n",
    "rfg_valid_acc = (100*(1-num_wrong/N))\n",
    "\n",
    "print('RFG Valid Acc: {}'.format(rfg_valid_acc))"
   ]
  },
  {
   "cell_type": "markdown",
   "metadata": {
    "papermill": {
     "duration": 0.023385,
     "end_time": "2021-07-26T23:24:21.917285",
     "exception": false,
     "start_time": "2021-07-26T23:24:21.893900",
     "status": "completed"
    },
    "tags": []
   },
   "source": [
    "# Neural Net"
   ]
  },
  {
   "cell_type": "code",
   "execution_count": 15,
   "metadata": {
    "execution": {
     "iopub.execute_input": "2021-07-26T23:24:21.969920Z",
     "iopub.status.busy": "2021-07-26T23:24:21.969218Z",
     "iopub.status.idle": "2021-07-26T23:24:21.988418Z",
     "shell.execute_reply": "2021-07-26T23:24:21.987838Z",
     "shell.execute_reply.started": "2021-07-26T17:39:40.914218Z"
    },
    "papermill": {
     "duration": 0.047232,
     "end_time": "2021-07-26T23:24:21.988567",
     "exception": false,
     "start_time": "2021-07-26T23:24:21.941335",
     "status": "completed"
    },
    "tags": []
   },
   "outputs": [],
   "source": [
    "keras.backend.clear_session()"
   ]
  },
  {
   "cell_type": "code",
   "execution_count": 16,
   "metadata": {
    "execution": {
     "iopub.execute_input": "2021-07-26T23:24:22.042228Z",
     "iopub.status.busy": "2021-07-26T23:24:22.041575Z",
     "iopub.status.idle": "2021-07-26T23:24:22.160608Z",
     "shell.execute_reply": "2021-07-26T23:24:22.161175Z",
     "shell.execute_reply.started": "2021-07-26T17:39:40.923852Z"
    },
    "papermill": {
     "duration": 0.149472,
     "end_time": "2021-07-26T23:24:22.161353",
     "exception": false,
     "start_time": "2021-07-26T23:24:22.011881",
     "status": "completed"
    },
    "tags": []
   },
   "outputs": [],
   "source": [
    "import keras.layers as layers\n",
    "\n",
    "model = keras.Sequential([\n",
    "    layers.BatchNormalization(),\n",
    "    layers.Dense(128, activation = 'relu'),\n",
    "    layers.Dropout(0.5),\n",
    "    layers.BatchNormalization(),\n",
    "    layers.Dense(128, activation = 'relu'),\n",
    "    layers.Dropout(0.5),\n",
    "    layers.Dense(1, activation = 'sigmoid')\n",
    "])\n",
    "\n",
    "model.compile(optimizer='adam', loss='binary_crossentropy', metrics=['accuracy'])"
   ]
  },
  {
   "cell_type": "code",
   "execution_count": 17,
   "metadata": {
    "execution": {
     "iopub.execute_input": "2021-07-26T23:24:22.211357Z",
     "iopub.status.busy": "2021-07-26T23:24:22.210709Z",
     "iopub.status.idle": "2021-07-26T23:24:22.214438Z",
     "shell.execute_reply": "2021-07-26T23:24:22.214961Z",
     "shell.execute_reply.started": "2021-07-26T17:39:40.953689Z"
    },
    "papermill": {
     "duration": 0.030349,
     "end_time": "2021-07-26T23:24:22.215136",
     "exception": false,
     "start_time": "2021-07-26T23:24:22.184787",
     "status": "completed"
    },
    "tags": []
   },
   "outputs": [],
   "source": [
    "my_callbacks = [tf.keras.callbacks.EarlyStopping(patience=5, restore_best_weights=True)]"
   ]
  },
  {
   "cell_type": "code",
   "execution_count": 18,
   "metadata": {
    "execution": {
     "iopub.execute_input": "2021-07-26T23:24:22.265838Z",
     "iopub.status.busy": "2021-07-26T23:24:22.265210Z",
     "iopub.status.idle": "2021-07-26T23:24:30.027399Z",
     "shell.execute_reply": "2021-07-26T23:24:30.026784Z",
     "shell.execute_reply.started": "2021-07-26T17:39:40.960749Z"
    },
    "papermill": {
     "duration": 7.788488,
     "end_time": "2021-07-26T23:24:30.027553",
     "exception": false,
     "start_time": "2021-07-26T23:24:22.239065",
     "status": "completed"
    },
    "tags": []
   },
   "outputs": [
    {
     "name": "stdout",
     "output_type": "stream",
     "text": [
      "Epoch 1/100\n",
      "4/4 [==============================] - 2s 204ms/step - loss: 0.8670 - accuracy: 0.5000 - val_loss: 0.7009 - val_accuracy: 0.5545\n",
      "Epoch 2/100\n",
      "4/4 [==============================] - 0s 21ms/step - loss: 0.7765 - accuracy: 0.6000 - val_loss: 0.6581 - val_accuracy: 0.6818\n",
      "Epoch 3/100\n",
      "4/4 [==============================] - 0s 21ms/step - loss: 0.6047 - accuracy: 0.6804 - val_loss: 0.6223 - val_accuracy: 0.7273\n",
      "Epoch 4/100\n",
      "4/4 [==============================] - 0s 22ms/step - loss: 0.5662 - accuracy: 0.7149 - val_loss: 0.5928 - val_accuracy: 0.7545\n",
      "Epoch 5/100\n",
      "4/4 [==============================] - 0s 22ms/step - loss: 0.5957 - accuracy: 0.7290 - val_loss: 0.5695 - val_accuracy: 0.7636\n",
      "Epoch 6/100\n",
      "4/4 [==============================] - 0s 21ms/step - loss: 0.5855 - accuracy: 0.7097 - val_loss: 0.5527 - val_accuracy: 0.7727\n",
      "Epoch 7/100\n",
      "4/4 [==============================] - 0s 22ms/step - loss: 0.5791 - accuracy: 0.7161 - val_loss: 0.5417 - val_accuracy: 0.7727\n",
      "Epoch 8/100\n",
      "4/4 [==============================] - 0s 22ms/step - loss: 0.5407 - accuracy: 0.7295 - val_loss: 0.5343 - val_accuracy: 0.7909\n",
      "Epoch 9/100\n",
      "4/4 [==============================] - 0s 22ms/step - loss: 0.5549 - accuracy: 0.7187 - val_loss: 0.5291 - val_accuracy: 0.8091\n",
      "Epoch 10/100\n",
      "4/4 [==============================] - 0s 22ms/step - loss: 0.5267 - accuracy: 0.7554 - val_loss: 0.5263 - val_accuracy: 0.8182\n",
      "Epoch 11/100\n",
      "4/4 [==============================] - 0s 21ms/step - loss: 0.5214 - accuracy: 0.7643 - val_loss: 0.5241 - val_accuracy: 0.8364\n",
      "Epoch 12/100\n",
      "4/4 [==============================] - 0s 21ms/step - loss: 0.5162 - accuracy: 0.7580 - val_loss: 0.5218 - val_accuracy: 0.8455\n",
      "Epoch 13/100\n",
      "4/4 [==============================] - 0s 21ms/step - loss: 0.5019 - accuracy: 0.7800 - val_loss: 0.5198 - val_accuracy: 0.8545\n",
      "Epoch 14/100\n",
      "4/4 [==============================] - 0s 21ms/step - loss: 0.5299 - accuracy: 0.7591 - val_loss: 0.5183 - val_accuracy: 0.8545\n",
      "Epoch 15/100\n",
      "4/4 [==============================] - 0s 21ms/step - loss: 0.5045 - accuracy: 0.7546 - val_loss: 0.5169 - val_accuracy: 0.8545\n",
      "Epoch 16/100\n",
      "4/4 [==============================] - 0s 21ms/step - loss: 0.4816 - accuracy: 0.7790 - val_loss: 0.5150 - val_accuracy: 0.8545\n",
      "Epoch 17/100\n",
      "4/4 [==============================] - 0s 21ms/step - loss: 0.4778 - accuracy: 0.7780 - val_loss: 0.5120 - val_accuracy: 0.8636\n",
      "Epoch 18/100\n",
      "4/4 [==============================] - 0s 22ms/step - loss: 0.5032 - accuracy: 0.7829 - val_loss: 0.5073 - val_accuracy: 0.8636\n",
      "Epoch 19/100\n",
      "4/4 [==============================] - 0s 21ms/step - loss: 0.4950 - accuracy: 0.8072 - val_loss: 0.5031 - val_accuracy: 0.8636\n",
      "Epoch 20/100\n",
      "4/4 [==============================] - 0s 21ms/step - loss: 0.4767 - accuracy: 0.7878 - val_loss: 0.4987 - val_accuracy: 0.8636\n",
      "Epoch 21/100\n",
      "4/4 [==============================] - 0s 22ms/step - loss: 0.4869 - accuracy: 0.7639 - val_loss: 0.4952 - val_accuracy: 0.8636\n",
      "Epoch 22/100\n",
      "4/4 [==============================] - 0s 23ms/step - loss: 0.5382 - accuracy: 0.7705 - val_loss: 0.4935 - val_accuracy: 0.8636\n",
      "Epoch 23/100\n",
      "4/4 [==============================] - 0s 22ms/step - loss: 0.4825 - accuracy: 0.7673 - val_loss: 0.4919 - val_accuracy: 0.8636\n",
      "Epoch 24/100\n",
      "4/4 [==============================] - 0s 21ms/step - loss: 0.4853 - accuracy: 0.7836 - val_loss: 0.4889 - val_accuracy: 0.8636\n",
      "Epoch 25/100\n",
      "4/4 [==============================] - 0s 22ms/step - loss: 0.4783 - accuracy: 0.8017 - val_loss: 0.4847 - val_accuracy: 0.8636\n",
      "Epoch 26/100\n",
      "4/4 [==============================] - 0s 21ms/step - loss: 0.4658 - accuracy: 0.7961 - val_loss: 0.4813 - val_accuracy: 0.8636\n",
      "Epoch 27/100\n",
      "4/4 [==============================] - 0s 22ms/step - loss: 0.5225 - accuracy: 0.7464 - val_loss: 0.4779 - val_accuracy: 0.8727\n",
      "Epoch 28/100\n",
      "4/4 [==============================] - 0s 21ms/step - loss: 0.5201 - accuracy: 0.7599 - val_loss: 0.4760 - val_accuracy: 0.8636\n",
      "Epoch 29/100\n",
      "4/4 [==============================] - 0s 21ms/step - loss: 0.4813 - accuracy: 0.7831 - val_loss: 0.4739 - val_accuracy: 0.8636\n",
      "Epoch 30/100\n",
      "4/4 [==============================] - 0s 21ms/step - loss: 0.4956 - accuracy: 0.7751 - val_loss: 0.4719 - val_accuracy: 0.8636\n",
      "Epoch 31/100\n",
      "4/4 [==============================] - 0s 21ms/step - loss: 0.5071 - accuracy: 0.7817 - val_loss: 0.4716 - val_accuracy: 0.8636\n",
      "Epoch 32/100\n",
      "4/4 [==============================] - 0s 21ms/step - loss: 0.4750 - accuracy: 0.7927 - val_loss: 0.4720 - val_accuracy: 0.8636\n",
      "Epoch 33/100\n",
      "4/4 [==============================] - 0s 21ms/step - loss: 0.4818 - accuracy: 0.7930 - val_loss: 0.4703 - val_accuracy: 0.8545\n",
      "Epoch 34/100\n",
      "4/4 [==============================] - 0s 21ms/step - loss: 0.4707 - accuracy: 0.7925 - val_loss: 0.4670 - val_accuracy: 0.8545\n",
      "Epoch 35/100\n",
      "4/4 [==============================] - 0s 21ms/step - loss: 0.4591 - accuracy: 0.7961 - val_loss: 0.4647 - val_accuracy: 0.8545\n",
      "Epoch 36/100\n",
      "4/4 [==============================] - 0s 21ms/step - loss: 0.4302 - accuracy: 0.8213 - val_loss: 0.4621 - val_accuracy: 0.8545\n",
      "Epoch 37/100\n",
      "4/4 [==============================] - 0s 21ms/step - loss: 0.4736 - accuracy: 0.7841 - val_loss: 0.4585 - val_accuracy: 0.8545\n",
      "Epoch 38/100\n",
      "4/4 [==============================] - 0s 22ms/step - loss: 0.4899 - accuracy: 0.7748 - val_loss: 0.4550 - val_accuracy: 0.8545\n",
      "Epoch 39/100\n",
      "4/4 [==============================] - 0s 21ms/step - loss: 0.5157 - accuracy: 0.7537 - val_loss: 0.4523 - val_accuracy: 0.8545\n",
      "Epoch 40/100\n",
      "4/4 [==============================] - 0s 21ms/step - loss: 0.4862 - accuracy: 0.8004 - val_loss: 0.4525 - val_accuracy: 0.8545\n",
      "Epoch 41/100\n",
      "4/4 [==============================] - 0s 21ms/step - loss: 0.4572 - accuracy: 0.7986 - val_loss: 0.4533 - val_accuracy: 0.8545\n",
      "Epoch 42/100\n",
      "4/4 [==============================] - 0s 21ms/step - loss: 0.4814 - accuracy: 0.7621 - val_loss: 0.4520 - val_accuracy: 0.8545\n",
      "Epoch 43/100\n",
      "4/4 [==============================] - 0s 21ms/step - loss: 0.4626 - accuracy: 0.7702 - val_loss: 0.4501 - val_accuracy: 0.8455\n",
      "Epoch 44/100\n",
      "4/4 [==============================] - 0s 21ms/step - loss: 0.4574 - accuracy: 0.8115 - val_loss: 0.4471 - val_accuracy: 0.8455\n",
      "Epoch 45/100\n",
      "4/4 [==============================] - 0s 20ms/step - loss: 0.4528 - accuracy: 0.7897 - val_loss: 0.4432 - val_accuracy: 0.8545\n",
      "Epoch 46/100\n",
      "4/4 [==============================] - 0s 21ms/step - loss: 0.4726 - accuracy: 0.7793 - val_loss: 0.4395 - val_accuracy: 0.8545\n",
      "Epoch 47/100\n",
      "4/4 [==============================] - 0s 21ms/step - loss: 0.4459 - accuracy: 0.7877 - val_loss: 0.4349 - val_accuracy: 0.8545\n",
      "Epoch 48/100\n",
      "4/4 [==============================] - 0s 21ms/step - loss: 0.4578 - accuracy: 0.7913 - val_loss: 0.4315 - val_accuracy: 0.8545\n",
      "Epoch 49/100\n",
      "4/4 [==============================] - 0s 22ms/step - loss: 0.4344 - accuracy: 0.8016 - val_loss: 0.4288 - val_accuracy: 0.8545\n",
      "Epoch 50/100\n",
      "4/4 [==============================] - 0s 20ms/step - loss: 0.4647 - accuracy: 0.7781 - val_loss: 0.4267 - val_accuracy: 0.8545\n",
      "Epoch 51/100\n",
      "4/4 [==============================] - 0s 21ms/step - loss: 0.4438 - accuracy: 0.7919 - val_loss: 0.4240 - val_accuracy: 0.8636\n",
      "Epoch 52/100\n",
      "4/4 [==============================] - 0s 21ms/step - loss: 0.4900 - accuracy: 0.7759 - val_loss: 0.4218 - val_accuracy: 0.8727\n",
      "Epoch 53/100\n",
      "4/4 [==============================] - 0s 22ms/step - loss: 0.4534 - accuracy: 0.8039 - val_loss: 0.4211 - val_accuracy: 0.8545\n",
      "Epoch 54/100\n",
      "4/4 [==============================] - 0s 23ms/step - loss: 0.4494 - accuracy: 0.8144 - val_loss: 0.4198 - val_accuracy: 0.8545\n",
      "Epoch 55/100\n",
      "4/4 [==============================] - 0s 21ms/step - loss: 0.4526 - accuracy: 0.8008 - val_loss: 0.4197 - val_accuracy: 0.8545\n",
      "Epoch 56/100\n",
      "4/4 [==============================] - 0s 22ms/step - loss: 0.4324 - accuracy: 0.8079 - val_loss: 0.4184 - val_accuracy: 0.8545\n",
      "Epoch 57/100\n",
      "4/4 [==============================] - 0s 21ms/step - loss: 0.4380 - accuracy: 0.8134 - val_loss: 0.4158 - val_accuracy: 0.8455\n",
      "Epoch 58/100\n",
      "4/4 [==============================] - 0s 21ms/step - loss: 0.4487 - accuracy: 0.8105 - val_loss: 0.4143 - val_accuracy: 0.8455\n",
      "Epoch 59/100\n",
      "4/4 [==============================] - 0s 21ms/step - loss: 0.4639 - accuracy: 0.8096 - val_loss: 0.4125 - val_accuracy: 0.8455\n",
      "Epoch 60/100\n",
      "4/4 [==============================] - 0s 21ms/step - loss: 0.4276 - accuracy: 0.8245 - val_loss: 0.4103 - val_accuracy: 0.8455\n",
      "Epoch 61/100\n",
      "4/4 [==============================] - 0s 21ms/step - loss: 0.4392 - accuracy: 0.8080 - val_loss: 0.4102 - val_accuracy: 0.8455\n",
      "Epoch 62/100\n",
      "4/4 [==============================] - 0s 22ms/step - loss: 0.4546 - accuracy: 0.8119 - val_loss: 0.4100 - val_accuracy: 0.8455\n",
      "Epoch 63/100\n",
      "4/4 [==============================] - 0s 21ms/step - loss: 0.4149 - accuracy: 0.8321 - val_loss: 0.4086 - val_accuracy: 0.8455\n",
      "Epoch 64/100\n",
      "4/4 [==============================] - 0s 21ms/step - loss: 0.4442 - accuracy: 0.8373 - val_loss: 0.4074 - val_accuracy: 0.8455\n",
      "Epoch 65/100\n",
      "4/4 [==============================] - 0s 22ms/step - loss: 0.4633 - accuracy: 0.7926 - val_loss: 0.4073 - val_accuracy: 0.8455\n",
      "Epoch 66/100\n",
      "4/4 [==============================] - 0s 22ms/step - loss: 0.4183 - accuracy: 0.8136 - val_loss: 0.4069 - val_accuracy: 0.8455\n",
      "Epoch 67/100\n",
      "4/4 [==============================] - 0s 21ms/step - loss: 0.4338 - accuracy: 0.8113 - val_loss: 0.4052 - val_accuracy: 0.8455\n",
      "Epoch 68/100\n",
      "4/4 [==============================] - 0s 21ms/step - loss: 0.4525 - accuracy: 0.8113 - val_loss: 0.4037 - val_accuracy: 0.8545\n",
      "Epoch 69/100\n",
      "4/4 [==============================] - 0s 21ms/step - loss: 0.4492 - accuracy: 0.8187 - val_loss: 0.4020 - val_accuracy: 0.8545\n",
      "Epoch 70/100\n",
      "4/4 [==============================] - 0s 21ms/step - loss: 0.4591 - accuracy: 0.7943 - val_loss: 0.4004 - val_accuracy: 0.8545\n",
      "Epoch 71/100\n",
      "4/4 [==============================] - 0s 21ms/step - loss: 0.4528 - accuracy: 0.8293 - val_loss: 0.4005 - val_accuracy: 0.8545\n",
      "Epoch 72/100\n",
      "4/4 [==============================] - 0s 21ms/step - loss: 0.4091 - accuracy: 0.8304 - val_loss: 0.4001 - val_accuracy: 0.8545\n",
      "Epoch 73/100\n",
      "4/4 [==============================] - 0s 21ms/step - loss: 0.4392 - accuracy: 0.8186 - val_loss: 0.3989 - val_accuracy: 0.8545\n",
      "Epoch 74/100\n",
      "4/4 [==============================] - 0s 21ms/step - loss: 0.4164 - accuracy: 0.8197 - val_loss: 0.3978 - val_accuracy: 0.8545\n",
      "Epoch 75/100\n",
      "4/4 [==============================] - 0s 22ms/step - loss: 0.4408 - accuracy: 0.7911 - val_loss: 0.3971 - val_accuracy: 0.8545\n",
      "Epoch 76/100\n",
      "4/4 [==============================] - 0s 21ms/step - loss: 0.4327 - accuracy: 0.8066 - val_loss: 0.3967 - val_accuracy: 0.8455\n",
      "Epoch 77/100\n",
      "4/4 [==============================] - 0s 22ms/step - loss: 0.4329 - accuracy: 0.8214 - val_loss: 0.3964 - val_accuracy: 0.8455\n",
      "Epoch 78/100\n",
      "4/4 [==============================] - 0s 21ms/step - loss: 0.4304 - accuracy: 0.8012 - val_loss: 0.3960 - val_accuracy: 0.8455\n",
      "Epoch 79/100\n",
      "4/4 [==============================] - 0s 22ms/step - loss: 0.4282 - accuracy: 0.8267 - val_loss: 0.3971 - val_accuracy: 0.8455\n",
      "Epoch 80/100\n",
      "4/4 [==============================] - 0s 21ms/step - loss: 0.4004 - accuracy: 0.8153 - val_loss: 0.3981 - val_accuracy: 0.8455\n",
      "Epoch 81/100\n",
      "4/4 [==============================] - 0s 22ms/step - loss: 0.4333 - accuracy: 0.8246 - val_loss: 0.3982 - val_accuracy: 0.8455\n",
      "Epoch 82/100\n",
      "4/4 [==============================] - 0s 22ms/step - loss: 0.4348 - accuracy: 0.8325 - val_loss: 0.3972 - val_accuracy: 0.8455\n",
      "Epoch 83/100\n",
      "4/4 [==============================] - 0s 21ms/step - loss: 0.4044 - accuracy: 0.8310 - val_loss: 0.3962 - val_accuracy: 0.8455\n"
     ]
    }
   ],
   "source": [
    "history = model.fit(x_train, y_train, epochs=100, batch_size=128, validation_data=(x_valid, y_valid), shuffle=False, callbacks=my_callbacks)"
   ]
  },
  {
   "cell_type": "code",
   "execution_count": 19,
   "metadata": {
    "execution": {
     "iopub.execute_input": "2021-07-26T23:24:30.192842Z",
     "iopub.status.busy": "2021-07-26T23:24:30.191807Z",
     "iopub.status.idle": "2021-07-26T23:24:30.509706Z",
     "shell.execute_reply": "2021-07-26T23:24:30.509067Z",
     "shell.execute_reply.started": "2021-07-26T17:39:47.472269Z"
    },
    "papermill": {
     "duration": 0.406594,
     "end_time": "2021-07-26T23:24:30.509851",
     "exception": false,
     "start_time": "2021-07-26T23:24:30.103257",
     "status": "completed"
    },
    "tags": []
   },
   "outputs": [
    {
     "data": {
      "image/png": "[encoded data removed]",
      "text/plain": [
       "<Figure size 720x720 with 2 Axes>"
      ]
     },
     "metadata": {
      "needs_background": "light"
     },
     "output_type": "display_data"
    }
   ],
   "source": [
    "plot_loss(history)"
   ]
  },
  {
   "cell_type": "markdown",
   "metadata": {
    "papermill": {
     "duration": 0.073587,
     "end_time": "2021-07-26T23:24:30.657442",
     "exception": false,
     "start_time": "2021-07-26T23:24:30.583855",
     "status": "completed"
    },
    "tags": []
   },
   "source": [
    "# Evaluate and Compare Models"
   ]
  },
  {
   "cell_type": "code",
   "execution_count": 20,
   "metadata": {
    "execution": {
     "iopub.execute_input": "2021-07-26T23:24:30.844986Z",
     "iopub.status.busy": "2021-07-26T23:24:30.844082Z",
     "iopub.status.idle": "2021-07-26T23:24:30.850032Z",
     "shell.execute_reply": "2021-07-26T23:24:30.849283Z",
     "shell.execute_reply.started": "2021-07-26T17:42:53.32848Z"
    },
    "papermill": {
     "duration": 0.114609,
     "end_time": "2021-07-26T23:24:30.850231",
     "exception": false,
     "start_time": "2021-07-26T23:24:30.735622",
     "status": "completed"
    },
    "tags": []
   },
   "outputs": [
    {
     "name": "stdout",
     "output_type": "stream",
     "text": [
      "RFG Valid Acc: 86.36363636363636\n",
      "NN Valid Acc: 84.54545736312866\n"
     ]
    }
   ],
   "source": [
    "print('RFG Valid Acc: {}'.format(rfg_valid_acc))\n",
    "print('NN Valid Acc: {}'.format(history.history['val_accuracy'][-5]*100))"
   ]
  },
  {
   "cell_type": "markdown",
   "metadata": {
    "papermill": {
     "duration": 0.07538,
     "end_time": "2021-07-26T23:24:31.002694",
     "exception": false,
     "start_time": "2021-07-26T23:24:30.927314",
     "status": "completed"
    },
    "tags": []
   },
   "source": [
    "# Prediction"
   ]
  },
  {
   "cell_type": "code",
   "execution_count": 21,
   "metadata": {
    "execution": {
     "iopub.execute_input": "2021-07-26T23:24:31.162302Z",
     "iopub.status.busy": "2021-07-26T23:24:31.161463Z",
     "iopub.status.idle": "2021-07-26T23:24:31.341680Z",
     "shell.execute_reply": "2021-07-26T23:24:31.341162Z",
     "shell.execute_reply.started": "2021-07-26T17:25:25.271339Z"
    },
    "papermill": {
     "duration": 0.26303,
     "end_time": "2021-07-26T23:24:31.341830",
     "exception": false,
     "start_time": "2021-07-26T23:24:31.078800",
     "status": "completed"
    },
    "tags": []
   },
   "outputs": [
    {
     "name": "stdout",
     "output_type": "stream",
     "text": [
      "     PassengerId  Survived\n",
      "0            892         0\n",
      "1            893         0\n",
      "2            894         0\n",
      "3            895         0\n",
      "4            896         0\n",
      "..           ...       ...\n",
      "413         1305         0\n",
      "414         1306         1\n",
      "415         1307         0\n",
      "416         1308         0\n",
      "417         1309         0\n",
      "\n",
      "[418 rows x 2 columns]\n"
     ]
    }
   ],
   "source": [
    "#RFG\n",
    "# x_test = prep_data('../input/titanic/test.csv', val_split=0, random_seed=17, mode='test')\n",
    "# predictions = forest_reg.predict(x_test)\n",
    "# predictions = list(map(lambda x: 0 if x<0.5 else 1, predictions)) #round predictions to 0 or 1\n",
    "\n",
    "# output = pd.read_csv('../input/titanic/test.csv', usecols=['PassengerId'])\n",
    "# output['Survived'] = predictions\n",
    "# print(output)\n",
    "# output.to_csv('submission.csv', index=False)\n",
    "\n",
    "#NN\n",
    "x_test = prep_data('../input/titanic/test.csv', val_split=0, random_seed=17, mode='test')\n",
    "predictions = model.predict(x_test)\n",
    "predictions = list(map(lambda x: 0 if x<0.5 else 1, predictions)) #round predictions to 0 or 1\n",
    "\n",
    "output = pd.read_csv('../input/titanic/test.csv', usecols=['PassengerId'])\n",
    "output['Survived'] = predictions\n",
    "print(output)\n",
    "output.to_csv('submission.csv', index=False)"
   ]
  },
  {
   "cell_type": "code",
   "execution_count": null,
   "metadata": {
    "papermill": {
     "duration": 0.076739,
     "end_time": "2021-07-26T23:24:31.493599",
     "exception": false,
     "start_time": "2021-07-26T23:24:31.416860",
     "status": "completed"
    },
    "tags": []
   },
   "outputs": [],
   "source": []
  },
  {
   "cell_type": "code",
   "execution_count": null,
   "metadata": {
    "papermill": {
     "duration": 0.074488,
     "end_time": "2021-07-26T23:24:31.643683",
     "exception": false,
     "start_time": "2021-07-26T23:24:31.569195",
     "status": "completed"
    },
    "tags": []
   },
   "outputs": [],
   "source": []
  }
 ],
 "metadata": {
  "kernelspec": {
   "display_name": "Python 3",
   "language": "python",
   "name": "python3"
  },
  "language_info": {
   "codemirror_mode": {
    "name": "ipython",
    "version": 3
   },
   "file_extension": ".py",
   "mimetype": "text/x-python",
   "name": "python",
   "nbconvert_exporter": "python",
   "pygments_lexer": "ipython3",
   "version": "3.7.9"
  },
  "papermill": {
   "default_parameters": {},
   "duration": 33.861113,
   "end_time": "2021-07-26T23:24:33.795640",
   "environment_variables": {},
   "exception": null,
   "input_path": "__notebook__.ipynb",
   "output_path": "__notebook__.ipynb",
   "parameters": {},
   "start_time": "2021-07-26T23:23:59.934527",
   "version": "2.2.2"
  }
 },
 "nbformat": 4,
 "nbformat_minor": 4
}
